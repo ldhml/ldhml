{
  "nbformat": 4,
  "nbformat_minor": 0,
  "metadata": {
    "colab": {
      "name": "android.ipynb",
      "provenance": [],
      "authorship_tag": "ABX9TyPWZnFbvfHdEzydnAVs0k/C",
      "include_colab_link": true
    },
    "kernelspec": {
      "name": "python3",
      "display_name": "Python 3"
    },
    "language_info": {
      "name": "python"
    }
  },
  "cells": [
    {
      "cell_type": "markdown",
      "metadata": {
        "id": "view-in-github",
        "colab_type": "text"
      },
      "source": [
        "<a href=\"https://colab.research.google.com/github/ldhml/ldhml/blob/main/android.ipynb\" target=\"_parent\"><img src=\"https://colab.research.google.com/assets/colab-badge.svg\" alt=\"Open In Colab\"/></a>"
      ]
    },
    {
      "cell_type": "markdown",
      "source": [
        "BlurMaskFilter(반지름,스케일); = 이미지를 뿌옇게 만드는 것\n"
      ],
      "metadata": {
        "id": "UViy2iCxTUao"
      }
    }
  ]
}