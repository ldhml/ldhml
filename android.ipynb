{
  "nbformat": 4,
  "nbformat_minor": 0,
  "metadata": {
    "colab": {
      "name": "android.ipynb",
      "provenance": [],
      "authorship_tag": "ABX9TyOlFuup8L84IAIbxnLY/cHL",
      "include_colab_link": true
    },
    "kernelspec": {
      "name": "python3",
      "display_name": "Python 3"
    },
    "language_info": {
      "name": "python"
    }
  },
  "cells": [
    {
      "cell_type": "markdown",
      "metadata": {
        "id": "view-in-github",
        "colab_type": "text"
      },
      "source": [
        "<a href=\"https://colab.research.google.com/github/ldhml/ldhml/blob/main/android.ipynb\" target=\"_parent\"><img src=\"https://colab.research.google.com/assets/colab-badge.svg\" alt=\"Open In Colab\"/></a>"
      ]
    },
    {
      "cell_type": "markdown",
      "source": [
        "BlurMaskFilter(반지름,스케일); = 이미지를 뿌옇게 만드는 것\n",
        "\n",
        "EmbossMaskFilter = 이미지가 볼록하게 튀어나와 보이는 효과"
      ],
      "metadata": {
        "id": "UViy2iCxTUao"
      }
    },
    {
      "cell_type": "markdown",
      "source": [
        "강의자료 1장\n",
        "안드로이드 특징, 구조\n",
        "\n",
        "강의자료 2장\n",
        "학습목표 중심으로 \n",
        "View클래스는 위젯하고 레이아웃으로 되어있다는식으로개념\n",
        "xml,java 코드 설명하는것 보고 설명할정도로만\n",
        "java코드에 빈칸뚫고 찾기 \n",
        "(큰틀 뚫음.예를들어 결과에 뭐가있으면 이건 어떤버튼임.\n",
        "계층도\n",
        "체크박스와 레디오버튼이 어떻게 다른지\n",
        "레이아웃의 종류 \n",
        "강의자료에 **그림**들은 이해하기\n",
        "\n",
        "강의자료 3장부터는 별로 안중요해서 문제 복불복\n",
        "어떤 위젯이 어떤 용도로 쓰이는지만(타임피커,데이프피커\n",
        "타임피커, 데이트피커에는 spinner가 있어야 나오기때문에\n",
        "빈칸에 나올가능성 요론거\n",
        "강의자료에 있는 코드중에 노란색으로 쳐있는 곳 위주로\n",
        "\n",
        "강의자료4장 \n",
        "메뉴의종류 옵션메뉴 콘텍스트메뉴\n",
        "~의 종류나오면 다 보기\n",
        "메소드알기 \n",
        "inflate 이런게 왜필요하냐 (코드보여주면서)\n",
        "Toast.maketoast(토스트 옆에는 메이크토스트가 들어와야한다정도)\n",
        "\n",
        "강의자료5장\n",
        "**내장메모리파일처리** * 수업시간에 강조했다고 함.\n",
        "\n",
        "강의자료6장\n",
        "비트맵(사진의 굵은글씨는 외우다싶이 해라)\n",
        "\n",
        "총8~10문제 내면 1장에 1문제정도는 나온다고 생각. \n",
        "그 장의 중요한 문제가 뭔지 파악\n"
      ],
      "metadata": {
        "id": "eY47RI5PstpZ"
      }
    }
  ]
}